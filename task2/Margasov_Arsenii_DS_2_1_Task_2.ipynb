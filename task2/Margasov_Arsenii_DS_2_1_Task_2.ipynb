{
 "cells": [
  {
   "cell_type": "code",
   "execution_count": 1,
   "id": "suited-pricing",
   "metadata": {},
   "outputs": [
    {
     "data": {
      "text/html": [
       "<style>.container{width: 95% !important;}</style>"
      ],
      "text/plain": [
       "<IPython.core.display.HTML object>"
      ]
     },
     "metadata": {},
     "output_type": "display_data"
    }
   ],
   "source": [
    "from IPython.core.display import display, HTML\n",
    "display(HTML(\"<style>.container{width: 95% !important;}</style>\"))\n",
    "\n",
    "import gc\n",
    "import pandas as pd\n",
    "import numpy as np\n",
    "import matplotlib as mpl\n",
    "import matplotlib.pyplot as plt\n",
    "import seaborn as sns\n",
    "import warnings\n",
    "warnings.filterwarnings('ignore')\n",
    "\n",
    "import numpy as np\n",
    "import scipy as sp\n",
    "import pandas as pd\n",
    "\n",
    "import networkx as nx\n",
    "\n",
    "from scipy.optimize import fmin_powell\n",
    "from scipy import integrate\n",
    "from scipy import linalg\n",
    "\n",
    "from sklearn.preprocessing import normalize\n",
    "from sklearn import linear_model\n",
    "from sklearn.exceptions import ConvergenceWarning\n",
    "\n",
    "from tqdm import tqdm_notebook as tqdm\n",
    "\n",
    "np.set_printoptions(precision=4, suppress=True)\n",
    "\n",
    "sns.set_style(\"whitegrid\")\n",
    "sns.set_palette(\"colorblind\")\n",
    "palette = sns.color_palette()\n",
    "figsize = (10,5)\n",
    "legend_fontsize = 16\n",
    "\n",
    "from matplotlib import rc\n",
    "rc('font',**{'family':'sans-serif'})\n",
    "rc('text', usetex=True)\n",
    "rc('text.latex',preamble=r'\\usepackage[utf8]{inputenc}')\n",
    "rc('text.latex',preamble=r'\\usepackage[russian]{babel}')\n",
    "rc('axes', **{'titlesize': '16', 'labelsize': '16'})\n",
    "rc('legend', **{'fontsize': '16'})\n",
    "rc('figure', **{'dpi' : 300})"
   ]
  },
  {
   "cell_type": "markdown",
   "id": "discrete-teach",
   "metadata": {},
   "source": [
    "## 1. Preprocessing data"
   ]
  },
  {
   "cell_type": "code",
   "execution_count": 2,
   "id": "every-fireplace",
   "metadata": {},
   "outputs": [
    {
     "name": "stdout",
     "output_type": "stream",
     "text": [
      "CPU times: user 8.31 s, sys: 1.03 s, total: 9.34 s\n",
      "Wall time: 11.7 s\n"
     ]
    }
   ],
   "source": [
    "%%time\n",
    "import pickle\n",
    "\n",
    "tournaments = pickle.load(open(\"chgk/tournaments.pkl\", \"rb\"))\n",
    "results = pickle.load(open(\"chgk/results.pkl\", \"rb\"))\n",
    "players = pickle.load(open(\"chgk/players.pkl\", \"rb\"))"
   ]
  },
  {
   "cell_type": "code",
   "execution_count": 3,
   "id": "colored-scout",
   "metadata": {},
   "outputs": [],
   "source": [
    "train_tournaments = {}\n",
    "test_tournaments = {}\n",
    "for idx, tournament_info in tournaments.items():\n",
    "    try:\n",
    "        if results[idx][0][\"mask\"] is not None and len(results[idx][0][\"teamMembers\"]) > 0:\n",
    "            if tournament_info[\"dateStart\"][:4] == \"2019\":\n",
    "                train_tournaments[idx] = tournament_info\n",
    "            elif tournament_info[\"dateStart\"][:4] == \"2020\":\n",
    "                test_tournaments[idx] = tournament_info\n",
    "    except IndexError as e:\n",
    "        continue\n",
    "    except KeyError as e:\n",
    "        continue"
   ]
  },
  {
   "cell_type": "code",
   "execution_count": 4,
   "id": "defensive-hacker",
   "metadata": {},
   "outputs": [
    {
     "data": {
      "text/plain": [
       "674"
      ]
     },
     "execution_count": 4,
     "metadata": {},
     "output_type": "execute_result"
    }
   ],
   "source": [
    "len(train_tournaments)"
   ]
  },
  {
   "cell_type": "code",
   "execution_count": 5,
   "id": "qualified-screen",
   "metadata": {},
   "outputs": [
    {
     "data": {
      "text/plain": [
       "173"
      ]
     },
     "execution_count": 5,
     "metadata": {},
     "output_type": "execute_result"
    }
   ],
   "source": [
    "len(test_tournaments)"
   ]
  },
  {
   "cell_type": "markdown",
   "id": "entire-trunk",
   "metadata": {},
   "source": [
    "## 2. Baseline model"
   ]
  },
  {
   "cell_type": "markdown",
   "id": "square-interaction",
   "metadata": {},
   "source": [
    "Будем заменять \"X\" и \"?\" на 0, как будто бы команда неправильно ответила на вопрос для того, чтобы длины масок были одинаковыми."
   ]
  },
  {
   "cell_type": "code",
   "execution_count": 6,
   "id": "exposed-attribute",
   "metadata": {},
   "outputs": [],
   "source": [
    "def len_without_incorr_symb(s):\n",
    "    l = 0\n",
    "    for c in s:\n",
    "        if c not in [\"X\", \"?\"]:\n",
    "            l += 1\n",
    "    return l\n",
    "\n",
    "def get_amount_of_correct_answers_from_str(s):\n",
    "    cnt = 0\n",
    "    for c in s:\n",
    "        if c not in [\"X\", \"?\"]:\n",
    "            cnt += int(c)\n",
    "    return cnt\n",
    "\n",
    "from collections import defaultdict\n",
    "def get_correct_answers_ratio(df):\n",
    "    players_amount_of_correct_answers = defaultdict(int)\n",
    "    players_amount_of_answers = defaultdict(int)\n",
    "    for tournament_idx in df:\n",
    "        for info in results[tournament_idx]:\n",
    "            if info[\"mask\"] == None:\n",
    "                continue\n",
    "            for players_ in info[\"teamMembers\"]:\n",
    "                players_amount_of_correct_answers[players_[\"player\"][\"id\"]] += get_amount_of_correct_answers_from_str(info[\"mask\"])\n",
    "                players_amount_of_answers[players_[\"player\"][\"id\"]] += len(info[\"mask\"])\n",
    "    assert len(players_amount_of_correct_answers) == len(players_amount_of_answers)\n",
    "    ratio = {player_id: players_amount_of_correct_answers[player_id] / players_amount_of_answers[player_id] for player_id in players_amount_of_correct_answers}\n",
    "    return ratio"
   ]
  },
  {
   "cell_type": "markdown",
   "id": "restricted-nickel",
   "metadata": {},
   "source": [
    "Посчитаем долю правильных ответов игрока."
   ]
  },
  {
   "cell_type": "code",
   "execution_count": 7,
   "id": "swedish-concentrate",
   "metadata": {},
   "outputs": [
    {
     "name": "stdout",
     "output_type": "stream",
     "text": [
      "CPU times: user 3.26 s, sys: 1.22 ms, total: 3.27 s\n",
      "Wall time: 3.27 s\n"
     ]
    }
   ],
   "source": [
    "%%time\n",
    "train_ratio_of_correct_answers = get_correct_answers_ratio(train_tournaments)"
   ]
  },
  {
   "cell_type": "markdown",
   "id": "solid-pillow",
   "metadata": {},
   "source": [
    "Посчитаем сложность вопроса как: $1 - \\frac{\\text{число правильно ответивших команд}}{\\text{общее число команд}}$"
   ]
  },
  {
   "cell_type": "code",
   "execution_count": 8,
   "id": "fantastic-arnold",
   "metadata": {},
   "outputs": [],
   "source": [
    "def from_str_mask_to_arr(s):\n",
    "    cnt = []\n",
    "    for c in s:\n",
    "        if c not in [\"X\", \"?\"]:\n",
    "            cnt.append(int(c))\n",
    "        else:\n",
    "            cnt.append(0)\n",
    "    return cnt\n",
    "\n",
    "def get_question_complexity(df):\n",
    "    question_complexity_by_tournament = defaultdict(int)\n",
    "    for tournament_idx in df:\n",
    "        tmp_masks = []\n",
    "        try:\n",
    "            for info in results[tournament_idx]:\n",
    "                tmp_masks.append(from_str_mask_to_arr(info[\"mask\"]))\n",
    "            flg = all(list(map(lambda x: len(x) == len(tmp_masks[0]), tmp_masks)))\n",
    "            if not flg:\n",
    "                continue\n",
    "            tmp_masks_sum = np.array(tmp_masks).reshape(len(results[tournament_idx]), -1).sum(axis=0)\n",
    "            quest_complexity = list(map(lambda x: 1 - x / len(results[tournament_idx]), tmp_masks_sum))\n",
    "            question_complexity_by_tournament[tournament_idx] = quest_complexity\n",
    "        except TypeError as e:\n",
    "            continue\n",
    "    return question_complexity_by_tournament"
   ]
  },
  {
   "cell_type": "code",
   "execution_count": 9,
   "id": "meaning-spotlight",
   "metadata": {},
   "outputs": [
    {
     "name": "stdout",
     "output_type": "stream",
     "text": [
      "CPU times: user 894 ms, sys: 0 ns, total: 894 ms\n",
      "Wall time: 913 ms\n"
     ]
    }
   ],
   "source": [
    "%%time\n",
    "train_quest_compl = get_question_complexity(train_tournaments)"
   ]
  },
  {
   "cell_type": "markdown",
   "id": "dependent-brief",
   "metadata": {},
   "source": [
    "Создадим датасет для обучения baseline log reg, который будет состоять из следующих колонок:\n",
    "* player_id\n",
    "* tourn_question_id\n",
    "* доля правильных ответов игрока за все время\n",
    "* сложность вопроса\n",
    "* позиция команды\n",
    "* количество команд\n",
    "* ответ на вопрос"
   ]
  },
  {
   "cell_type": "code",
   "execution_count": 10,
   "id": "entitled-sleeve",
   "metadata": {},
   "outputs": [
    {
     "data": {
      "application/vnd.jupyter.widget-view+json": {
       "model_id": "5bed4b34686647a296acdb6a802bcfee",
       "version_major": 2,
       "version_minor": 0
      },
      "text/plain": [
       "  0%|          | 0/660 [00:00<?, ?it/s]"
      ]
     },
     "metadata": {},
     "output_type": "display_data"
    },
    {
     "name": "stdout",
     "output_type": "stream",
     "text": [
      "CPU times: user 30.4 s, sys: 593 ms, total: 31 s\n",
      "Wall time: 31 s\n"
     ]
    }
   ],
   "source": [
    "%%time\n",
    "part_2_full_players = []\n",
    "for tourn_idx, question_complexities in tqdm(train_quest_compl.items()):\n",
    "    cmd_cnt = len(results[tourn_idx])\n",
    "    for info in results[tourn_idx]:\n",
    "        mask = from_str_mask_to_arr(info[\"mask\"])\n",
    "        position = info[\"position\"] / cmd_cnt\n",
    "        for players_ in info[\"teamMembers\"]:\n",
    "            for idx, m_compl in enumerate(zip(mask, question_complexities)):\n",
    "                part_2_full_players.append([players_[\"player\"][\"id\"],\n",
    "                                            str(tourn_idx) + \"_\" + str(idx),\n",
    "                                            train_ratio_of_correct_answers[players_[\"player\"][\"id\"]],\n",
    "                                            m_compl[1],\n",
    "                                            position,\n",
    "                                            cmd_cnt,\n",
    "                                            m_compl[0]])"
   ]
  },
  {
   "cell_type": "markdown",
   "id": "great-traveler",
   "metadata": {},
   "source": [
    "Тут была попытка добавить графовые фичи, но она не дала дополнительного качества."
   ]
  },
  {
   "cell_type": "code",
   "execution_count": 11,
   "id": "extraordinary-granny",
   "metadata": {},
   "outputs": [],
   "source": [
    "# %%time\n",
    "# hits_nodes = []\n",
    "# PLAYER_ID_ADD = 1000000\n",
    "# for tournament_idx in train_tournaments:\n",
    "#     for info in results[tournament_idx]:\n",
    "#         for players_ in info[\"teamMembers\"]:\n",
    "#             hits_nodes.append((players_[\"player\"][\"id\"] + PLAYER_ID_ADD, tournament_idx))\n",
    "#             hits_nodes.append((tournament_idx, players_[\"player\"][\"id\"] + PLAYER_ID_ADD))"
   ]
  },
  {
   "cell_type": "code",
   "execution_count": 12,
   "id": "normal-drove",
   "metadata": {},
   "outputs": [],
   "source": [
    "# %%time\n",
    "# players_tournaments = nx.DiGraph()\n",
    "# players_tournaments.add_edges_from(hits_nodes)"
   ]
  },
  {
   "cell_type": "code",
   "execution_count": 13,
   "id": "gentle-native",
   "metadata": {},
   "outputs": [],
   "source": [
    "# %%time\n",
    "# hubs, authorities = nx.hits(players_tournaments)"
   ]
  },
  {
   "cell_type": "code",
   "execution_count": 14,
   "id": "loved-lexington",
   "metadata": {},
   "outputs": [],
   "source": [
    "# degree_centrality = nx.degree_centrality(G=players_tournaments)"
   ]
  },
  {
   "cell_type": "code",
   "execution_count": 15,
   "id": "mathematical-mortality",
   "metadata": {},
   "outputs": [],
   "source": [
    "part_2_full_players_df = pd.DataFrame(part_2_full_players, columns=[\"player_id\", \"tourn_question_id\",\"corr_answ_ratio\", \"quest_complexity\", \"cmd_pos\", \"cmd_cnt_in_tournament\", \"player_answer\"]).astype({\"player_id\": \"int\",\n",
    "                                                                                                                                                     \"tourn_question_id\": \"object\",\n",
    "                                                                                                                                                     \"corr_answ_ratio\": \"float\", \n",
    "                                                                                                                                                     \"quest_complexity\": \"float\", \n",
    "                                                                                                                                                     \"player_answer\": \"int\",\n",
    "                                                                                                                                                     \"cmd_pos\": \"float\",\n",
    "                                                                                                                                                     \"cmd_cnt_in_tournament\": \"int\"})"
   ]
  },
  {
   "cell_type": "code",
   "execution_count": 16,
   "id": "established-davis",
   "metadata": {},
   "outputs": [],
   "source": [
    "def get_feature_for_player(feature_dict, player_id):\n",
    "    return feature_dict[player_id + PLAYER_ID_ADD]"
   ]
  },
  {
   "cell_type": "code",
   "execution_count": 17,
   "id": "breeding-printer",
   "metadata": {},
   "outputs": [],
   "source": [
    "# part_2_full_players_df[\"degree_centrality\"] = part_2_full_players_df[\"player_id\"].apply(lambda x: get_feature_for_player(degree_centrality, x))\n",
    "# part_2_full_players_df[\"hubs\"] = part_2_full_players_df[\"player_id\"].apply(lambda x: get_feature_for_player(hubs, x))\n",
    "# part_2_full_players_df[\"authorities\"] = part_2_full_players_df[\"player_id\"].apply(lambda x: get_feature_for_player(authorities, x))"
   ]
  },
  {
   "cell_type": "code",
   "execution_count": 18,
   "id": "connected-settlement",
   "metadata": {},
   "outputs": [],
   "source": [
    "# part_2_full_players_df = part_2_full_players_df.drop_duplicates(ignore_index=True)"
   ]
  },
  {
   "cell_type": "code",
   "execution_count": 19,
   "id": "interesting-punch",
   "metadata": {},
   "outputs": [],
   "source": [
    "part_2_full_players_df[\"cmd_cnt_in_tournament\"] = part_2_full_players_df[\"cmd_cnt_in_tournament\"] / part_2_full_players_df[\"cmd_cnt_in_tournament\"].max()"
   ]
  },
  {
   "cell_type": "code",
   "execution_count": 20,
   "id": "excellent-norman",
   "metadata": {},
   "outputs": [
    {
     "name": "stdout",
     "output_type": "stream",
     "text": [
      "CPU times: user 23.2 s, sys: 18.7 s, total: 41.9 s\n",
      "Wall time: 12.2 s\n"
     ]
    },
    {
     "data": {
      "text/plain": [
       "LogisticRegression()"
      ]
     },
     "execution_count": 20,
     "metadata": {},
     "output_type": "execute_result"
    }
   ],
   "source": [
    "%%time\n",
    "from sklearn.linear_model import LogisticRegression\n",
    "log_reg = LogisticRegression()\n",
    "log_reg.fit(part_2_full_players_df.loc[:, ~part_2_full_players_df.columns.isin([\"player_answer\", \"player_id\", \"tourn_question_id\"])], part_2_full_players_df.loc[:, \"player_answer\"])"
   ]
  },
  {
   "cell_type": "code",
   "execution_count": 21,
   "id": "incident-consultancy",
   "metadata": {},
   "outputs": [
    {
     "data": {
      "text/plain": [
       "0.7873633710734862"
      ]
     },
     "execution_count": 21,
     "metadata": {},
     "output_type": "execute_result"
    }
   ],
   "source": [
    "log_reg.score(part_2_full_players_df.loc[:, ~part_2_full_players_df.columns.isin([\"player_answer\", \"player_id\", \"tourn_question_id\"])], part_2_full_players_df.loc[:, \"player_answer\"])"
   ]
  },
  {
   "cell_type": "code",
   "execution_count": 22,
   "id": "accepted-attribute",
   "metadata": {},
   "outputs": [],
   "source": [
    "log_reg_preds_by_player = log_reg.predict_proba(part_2_full_players_df.loc[:, ~part_2_full_players_df.columns.isin([\"player_answer\", \"player_id\", \"tourn_question_id\"])])[:, 1]"
   ]
  },
  {
   "cell_type": "code",
   "execution_count": 23,
   "id": "medium-testimony",
   "metadata": {},
   "outputs": [],
   "source": [
    "log_reg_preds_by_player_id = part_2_full_players_df.loc[:, [\"player_id\"]]\n",
    "log_reg_preds_by_player_id[\"proba\"] = log_reg_preds_by_player"
   ]
  },
  {
   "cell_type": "code",
   "execution_count": 24,
   "id": "comprehensive-republican",
   "metadata": {},
   "outputs": [
    {
     "data": {
      "image/png": "[encoded data removed]",
      "text/plain": [
       "<Figure size 1800x1200 with 1 Axes>"
      ]
     },
     "metadata": {},
     "output_type": "display_data"
    }
   ],
   "source": [
    "plt.hist(log_reg_preds_by_player, bins=\"auto\")\n",
    "plt.show()"
   ]
  },
  {
   "cell_type": "markdown",
   "id": "adapted-ghana",
   "metadata": {},
   "source": [
    "## 3. From player power to team power"
   ]
  },
  {
   "cell_type": "markdown",
   "id": "grave-calculator",
   "metadata": {},
   "source": [
    "Можно усреднить силу игроков в каждой команде и по полученной величине ранжировать команды из тестового набора."
   ]
  },
  {
   "cell_type": "code",
   "execution_count": 25,
   "id": "ancient-mount",
   "metadata": {},
   "outputs": [],
   "source": [
    "log_reg_preds_by_player_id_grpby = log_reg_preds_by_player_id.groupby([\"player_id\"])[\"proba\"].mean().to_dict()"
   ]
  },
  {
   "cell_type": "code",
   "execution_count": 26,
   "id": "improved-complement",
   "metadata": {},
   "outputs": [
    {
     "name": "stdout",
     "output_type": "stream",
     "text": [
      "CPU times: user 305 ms, sys: 0 ns, total: 305 ms\n",
      "Wall time: 375 ms\n"
     ]
    }
   ],
   "source": [
    "%%time\n",
    "from scipy.stats import kendalltau, spearmanr\n",
    "spearman = []\n",
    "kendall = []\n",
    "for tournament_idx in test_tournaments:\n",
    "    cmds_power = []\n",
    "    for info in results[tournament_idx]:\n",
    "        try:\n",
    "            cmds_power.append(np.mean(list(map(lambda x: log_reg_preds_by_player_id_grpby[x[\"player\"][\"id\"]], info[\"teamMembers\"]))))\n",
    "        except KeyError:\n",
    "            continue\n",
    "    temp = np.array(cmds_power).argsort()[::-1]\n",
    "    ranks = np.empty_like(temp)\n",
    "    ranks[temp] = np.arange(1, len(cmds_power) + 1)\n",
    "    sp_coef = spearmanr(range(1, len(cmds_power) + 1), ranks)[0]\n",
    "    kd_coef = kendalltau(range(1, len(cmds_power) + 1), ranks)[0]\n",
    "    if not np.isnan(sp_coef):\n",
    "        spearman.append(sp_coef)\n",
    "    if not np.isnan(kd_coef):\n",
    "        kendall.append(kd_coef)"
   ]
  },
  {
   "cell_type": "code",
   "execution_count": 27,
   "id": "driving-notion",
   "metadata": {},
   "outputs": [
    {
     "data": {
      "text/plain": [
       "0.6897985443132023"
      ]
     },
     "execution_count": 27,
     "metadata": {},
     "output_type": "execute_result"
    }
   ],
   "source": [
    "np.mean(spearman)"
   ]
  },
  {
   "cell_type": "code",
   "execution_count": 28,
   "id": "dying-review",
   "metadata": {},
   "outputs": [
    {
     "data": {
      "text/plain": [
       "0.5255529925418483"
      ]
     },
     "execution_count": 28,
     "metadata": {},
     "output_type": "execute_result"
    }
   ],
   "source": [
    "np.mean(kendall)"
   ]
  },
  {
   "cell_type": "markdown",
   "id": "directed-arena",
   "metadata": {},
   "source": [
    "## 4. EM"
   ]
  },
  {
   "cell_type": "markdown",
   "id": "indoor-telescope",
   "metadata": {},
   "source": [
    "Пусть скрытая переменная $Z_{nk}^{t}$ - индикатор, который обозначает ответ $k$-го игрока из команды $t$ на $n$-ый вопрос, веса игроков в команде $\\pi_{k}^{t}$ - вес $k$-го игрока из команды $t$, $\\theta_{k}^{t}$ - сила (вероятность правильно ответить на вопрос) $k$-го игрока из команды $t$. Везде ниже опустим верхний индекс $t$, потому что мы будем рассматривать шаг EM-алгоритма в рамках одной команды, а после будем усреднять оценки силы игрока по всем командам, в которых он успел поиграть."
   ]
  },
  {
   "cell_type": "markdown",
   "id": "sexual-daisy",
   "metadata": {},
   "source": [
    "Считаем, что данные порождены независимо, и дифференцируя функцию $Q$ по $\\theta_{k}$, получаем следующие формулы:\n",
    "1. E-шаг: \n",
    "    $$p(Z_{nk}|X, \\theta) = \\frac{\\pi_{k}p(x_{n}|\\theta_{k})}{\\sum\\limits_{l}\\pi_{l}p(x_{n}|\\theta_{l})}$$\n",
    "    $$p(x_{n}|\\theta_{k}) = \\theta_{k}^{x_{n}}(1 - \\theta_{k})^{1 - x_{n}} (= \\theta_{k}x_{n} + (1 - \\theta_{k})(1 - x_{n})) \\sim Be(x_{n}|\\theta_{k})$$ \n",
    "2. M-шаг:\n",
    "    $$\\theta_{k} = \\frac{\\sum\\limits_{n}\\mathbb{E}[Z_{nk}]x_{n}}{\\sum\\limits_{n}\\mathbb{E}[Z_{nk}]}$$\n",
    "    $$\\pi_{k} = \\frac{1}{n}\\sum\\limits_{n}\\mathbb{E}[Z_{nk}]$$\n",
    "3. Агрегация: поскольку один и тот же игрок мог в разные моменты времени играть за разные команды, то после M-шага необходимо усреднить его \"силы\", с которыми он играл за разные команды."
   ]
  },
  {
   "cell_type": "markdown",
   "id": "closed-reynolds",
   "metadata": {},
   "source": [
    "Для ускорения сходимости не будем использовать равномерное распределение, а проинициализируем силы игроков долей правильных ответов его команды.\n",
    "Вклад каждого игрока оставим равномерным."
   ]
  },
  {
   "cell_type": "code",
   "execution_count": 29,
   "id": "related-specialist",
   "metadata": {},
   "outputs": [
    {
     "data": {
      "text/plain": [
       "15475"
      ]
     },
     "execution_count": 29,
     "metadata": {},
     "output_type": "execute_result"
    }
   ],
   "source": [
    "del part_2_full_players_df\n",
    "gc.collect()"
   ]
  },
  {
   "cell_type": "code",
   "execution_count": 32,
   "id": "afraid-pottery",
   "metadata": {},
   "outputs": [
    {
     "data": {
      "application/vnd.jupyter.widget-view+json": {
       "model_id": "bafc60403b18421da6f982ff488186fe",
       "version_major": 2,
       "version_minor": 0
      },
      "text/plain": [
       "  0%|          | 0/660 [00:00<?, ?it/s]"
      ]
     },
     "metadata": {},
     "output_type": "display_data"
    }
   ],
   "source": [
    "# Data schema\n",
    "# tourn_team_id, tourn_question_id, player_id, team_answer, PI_weights, THETA_player_power\n",
    "full_players_list = []\n",
    "for tourn_idx in tqdm(train_quest_compl.keys()):\n",
    "    for info in results[tourn_idx]:\n",
    "        tmp_comd = []\n",
    "        mask = from_str_mask_to_arr(info[\"mask\"])\n",
    "        players_cnt = len(info[\"teamMembers\"])\n",
    "        pi_weights = np.ones(players_cnt) / players_cnt\n",
    "        theta_player_power = np.ones(players_cnt) * (sum(mask) / len(mask))\n",
    "        for idx, players_ in enumerate(info[\"teamMembers\"]):\n",
    "            for mask_idx, m in enumerate(mask):\n",
    "                full_players_list.append([str(tourn_idx) + \"_\" + str(info[\"team\"][\"id\"]),\n",
    "                                          str(tourn_idx) + \"_\" + str(mask_idx),\n",
    "                                          str(players_[\"player\"][\"id\"]),\n",
    "                                          m,\n",
    "                                          pi_weights[idx],\n",
    "                                          theta_player_power[idx]])"
   ]
  },
  {
   "cell_type": "code",
   "execution_count": 112,
   "id": "desperate-parade",
   "metadata": {},
   "outputs": [],
   "source": [
    "full_players_df = pd.DataFrame(data=full_players_list, columns=[\"tourn_team_id\",\n",
    "                                                                \"tourn_question_id\",\n",
    "                                                                \"player_id\", \n",
    "                                                                \"team_answer\", \n",
    "                                                                \"PI_weights\", \n",
    "                                                                \"THETA_player_power\"])"
   ]
  },
  {
   "cell_type": "code",
   "execution_count": 113,
   "id": "warming-winning",
   "metadata": {
    "scrolled": true
   },
   "outputs": [],
   "source": [
    "def get_z_hidden(pi_vec, theta_vec, x_vec, players_cnt, questions_cnt):\n",
    "    prob_vec = np.multiply(theta_vec, x_vec) + np.multiply((np.ones_like(theta_vec, dtype=float) - theta_vec), \n",
    "                                                           (np.ones_like(x_vec, dtype=float) - x_vec))\n",
    "    numerators = np.multiply(prob_vec, pi_vec).reshape(questions_cnt, players_cnt)\n",
    "    denominators = numerators.sum(axis=1).reshape(-1, 1)\n",
    "    return numerators / denominators\n",
    "\n",
    "def expectation(df, players_cnt, questions_cnt):\n",
    "    z_hidden = get_z_hidden(\n",
    "        df[\"PI_weights\"].values, \n",
    "        df[\"THETA_player_power\"].values,\n",
    "        df[\"team_answer\"].values,\n",
    "        players_cnt,\n",
    "        questions_cnt\n",
    "    )\n",
    "    return z_hidden\n",
    "\n",
    "def maximization(z_matrix, df, questions_cnt, players_cnt):\n",
    "    z_sum = z_matrix.sum(axis=0)\n",
    "    new_pi_vec = np.tile((z_sum / z_matrix.shape[0]).reshape(-1), questions_cnt)\n",
    "    new_theta_vec = np.tile((df[\"team_answer\"].values[:questions_cnt].reshape(1, -1) @ z_matrix) / (z_sum.reshape(-1, 1)).reshape(-1), questions_cnt).reshape(-1)\n",
    "    return new_pi_vec, new_theta_vec\n",
    "\n",
    "def em_iter(df):\n",
    "    players_cnt = len(pd.unique(df[\"player_id\"]))\n",
    "    questions_cnt = len(pd.unique(df[\"tourn_question_id\"]))\n",
    "    z_matrix = expectation(df, players_cnt, questions_cnt)\n",
    "    new_pi_vec, new_theta_vec = maximization(z_matrix, df, questions_cnt, players_cnt)\n",
    "    df[\"PI_weights\"] = new_pi_vec\n",
    "    df[\"THETA_player_power\"] = new_theta_vec\n",
    "    return df"
   ]
  },
  {
   "cell_type": "code",
   "execution_count": 114,
   "id": "applied-theory",
   "metadata": {
    "scrolled": false
   },
   "outputs": [
    {
     "data": {
      "application/vnd.jupyter.widget-view+json": {
       "model_id": "0abf83ebd61847ab8f5abf791fd0c77f",
       "version_major": 2,
       "version_minor": 0
      },
      "text/plain": [
       "  0%|          | 0/5 [00:00<?, ?it/s]"
      ]
     },
     "metadata": {},
     "output_type": "display_data"
    },
    {
     "name": "stdout",
     "output_type": "stream",
     "text": [
      "After EM iter number: 1\n",
      "After EM iter number: 2\n",
      "After EM iter number: 3\n",
      "After EM iter number: 4\n",
      "After EM iter number: 5\n"
     ]
    }
   ],
   "source": [
    "n_iterations = 5\n",
    "for iter in tqdm(range(n_iterations)):\n",
    "    full_players_df = full_players_df.groupby([\"tourn_team_id\"]).apply(em_iter)\n",
    "    print(f\"After EM iter number: {iter + 1}\")\n",
    "    player_power_agg = dict(full_players_df.groupby([\"player_id\"])[\"THETA_player_power\"].mean())\n",
    "    full_players_df[\"THETA_player_power\"] = full_players_df[\"player_id\"].apply(lambda x: player_power_agg[x])"
   ]
  },
  {
   "cell_type": "code",
   "execution_count": 115,
   "id": "antique-battery",
   "metadata": {},
   "outputs": [],
   "source": [
    "em_player_id_power = dict(full_players_df.loc[:, [\"player_id\", \"THETA_player_power\"]].drop_duplicates().values)"
   ]
  },
  {
   "cell_type": "code",
   "execution_count": 116,
   "id": "reverse-intake",
   "metadata": {},
   "outputs": [],
   "source": [
    "spearman = []\n",
    "kendall = []\n",
    "for tournament_idx in test_tournaments:\n",
    "    cmds_power = []\n",
    "    for info in results[tournament_idx]:\n",
    "        try:\n",
    "            cmds_power.append(np.mean(list(map(lambda x: em_player_id_power[str(x[\"player\"][\"id\"])], info[\"teamMembers\"]))))\n",
    "        except KeyError:\n",
    "            continue\n",
    "    temp = np.array(cmds_power).argsort()[::-1]\n",
    "    ranks = np.empty_like(temp)\n",
    "    ranks[temp] = np.arange(1, len(cmds_power) + 1)\n",
    "    sp_coef = spearmanr(range(1, len(cmds_power) + 1), ranks)[0]\n",
    "    kd_coef = kendalltau(range(1, len(cmds_power) + 1), ranks)[0]\n",
    "    if not np.isnan(sp_coef):\n",
    "        spearman.append(sp_coef)\n",
    "    if not np.isnan(kd_coef):\n",
    "        kendall.append(kd_coef)"
   ]
  },
  {
   "cell_type": "code",
   "execution_count": 117,
   "id": "cheap-valley",
   "metadata": {},
   "outputs": [
    {
     "data": {
      "text/plain": [
       "0.6856946594561684"
      ]
     },
     "execution_count": 117,
     "metadata": {},
     "output_type": "execute_result"
    }
   ],
   "source": [
    "np.mean(spearman)"
   ]
  },
  {
   "cell_type": "code",
   "execution_count": 118,
   "id": "wrapped-seeker",
   "metadata": {},
   "outputs": [
    {
     "data": {
      "text/plain": [
       "0.5233385065629279"
      ]
     },
     "execution_count": 118,
     "metadata": {},
     "output_type": "execute_result"
    }
   ],
   "source": [
    "np.mean(kendall)"
   ]
  },
  {
   "cell_type": "markdown",
   "id": "laughing-block",
   "metadata": {},
   "source": [
    "## 5. Tournament rating by question complexity"
   ]
  },
  {
   "cell_type": "markdown",
   "id": "historic-wisdom",
   "metadata": {},
   "source": [
    "Поскольку при построении как baseline-модели, так и EM-модели, мы учитывали сложность вопросов, то полученные скоры можно использовать для того, чтобы оценить сложность вопросов. Т.е. можно сделать усреднение по id вопроса, а потом усреднение по всем вопросам внутри одного турнира и получить сложность турнира от 0 до 1."
   ]
  },
  {
   "cell_type": "code",
   "execution_count": 138,
   "id": "minimal-paris",
   "metadata": {},
   "outputs": [],
   "source": [
    "em_quest_complexity = pd.DataFrame(full_players_df.groupby([\"tourn_question_id\"])[\"THETA_player_power\"].mean()).reset_index()\n",
    "em_quest_complexity[\"tourn_id\"] = em_quest_complexity[\"tourn_question_id\"].apply(lambda x: x.split(\"_\")[0])\n",
    "em_tourn_complexity = pd.DataFrame(em_quest_complexity.groupby([\"tourn_id\"])[\"THETA_player_power\"].mean())"
   ]
  },
  {
   "cell_type": "code",
   "execution_count": 140,
   "id": "active-canadian",
   "metadata": {},
   "outputs": [
    {
     "data": {
      "text/html": [
       "<div>\n",
       "<style scoped>\n",
       "    .dataframe tbody tr th:only-of-type {\n",
       "        vertical-align: middle;\n",
       "    }\n",
       "\n",
       "    .dataframe tbody tr th {\n",
       "        vertical-align: top;\n",
       "    }\n",
       "\n",
       "    .dataframe thead th {\n",
       "        text-align: right;\n",
       "    }\n",
       "</style>\n",
       "<table border=\"1\" class=\"dataframe\">\n",
       "  <thead>\n",
       "    <tr style=\"text-align: right;\">\n",
       "      <th></th>\n",
       "      <th>THETA_player_power</th>\n",
       "    </tr>\n",
       "    <tr>\n",
       "      <th>tourn_id</th>\n",
       "      <th></th>\n",
       "    </tr>\n",
       "  </thead>\n",
       "  <tbody>\n",
       "    <tr>\n",
       "      <th>5948</th>\n",
       "      <td>0.654879</td>\n",
       "    </tr>\n",
       "    <tr>\n",
       "      <th>5941</th>\n",
       "      <td>0.654604</td>\n",
       "    </tr>\n",
       "    <tr>\n",
       "      <th>5945</th>\n",
       "      <td>0.652141</td>\n",
       "    </tr>\n",
       "    <tr>\n",
       "      <th>5938</th>\n",
       "      <td>0.615841</td>\n",
       "    </tr>\n",
       "    <tr>\n",
       "      <th>5949</th>\n",
       "      <td>0.570755</td>\n",
       "    </tr>\n",
       "    <tr>\n",
       "      <th>...</th>\n",
       "      <td>...</td>\n",
       "    </tr>\n",
       "    <tr>\n",
       "      <th>6120</th>\n",
       "      <td>0.224109</td>\n",
       "    </tr>\n",
       "    <tr>\n",
       "      <th>5426</th>\n",
       "      <td>0.223045</td>\n",
       "    </tr>\n",
       "    <tr>\n",
       "      <th>5599</th>\n",
       "      <td>0.200554</td>\n",
       "    </tr>\n",
       "    <tr>\n",
       "      <th>5976</th>\n",
       "      <td>0.193901</td>\n",
       "    </tr>\n",
       "    <tr>\n",
       "      <th>5717</th>\n",
       "      <td>0.112760</td>\n",
       "    </tr>\n",
       "  </tbody>\n",
       "</table>\n",
       "<p>660 rows × 1 columns</p>\n",
       "</div>"
      ],
      "text/plain": [
       "          THETA_player_power\n",
       "tourn_id                    \n",
       "5948                0.654879\n",
       "5941                0.654604\n",
       "5945                0.652141\n",
       "5938                0.615841\n",
       "5949                0.570755\n",
       "...                      ...\n",
       "6120                0.224109\n",
       "5426                0.223045\n",
       "5599                0.200554\n",
       "5976                0.193901\n",
       "5717                0.112760\n",
       "\n",
       "[660 rows x 1 columns]"
      ]
     },
     "execution_count": 140,
     "metadata": {},
     "output_type": "execute_result"
    }
   ],
   "source": [
    "em_tourn_complexity.sort_values(by=\"THETA_player_power\", ascending=False)"
   ]
  },
  {
   "cell_type": "code",
   "execution_count": 147,
   "id": "spare-philip",
   "metadata": {},
   "outputs": [
    {
     "data": {
      "text/plain": [
       "{'id': 5948,\n",
       " 'name': 'Чемпионат Мира. Финал. Группа А',\n",
       " 'dateStart': '2019-09-08T15:30:00+03:00',\n",
       " 'dateEnd': '2019-09-08T17:30:00+03:00',\n",
       " 'type': {'id': 2, 'name': 'Обычный'},\n",
       " 'season': '/seasons/53',\n",
       " 'orgcommittee': [{'id': 27247,\n",
       "   'name': 'Александр',\n",
       "   'patronymic': 'Аврамович',\n",
       "   'surname': 'Рубин'},\n",
       "  {'id': 46968,\n",
       "   'name': 'Александр',\n",
       "   'patronymic': 'Давидович',\n",
       "   'surname': 'Двоскин'},\n",
       "  {'id': 25882,\n",
       "   'name': 'Максим',\n",
       "   'patronymic': 'Оскарович',\n",
       "   'surname': 'Поташев'},\n",
       "  {'id': 144,\n",
       "   'name': 'Сергей',\n",
       "   'patronymic': 'Леонидович',\n",
       "   'surname': 'Абрамов'},\n",
       "  {'id': 11084,\n",
       "   'name': 'Павел',\n",
       "   'patronymic': 'Олегович',\n",
       "   'surname': 'Забавский'},\n",
       "  {'id': 37142,\n",
       "   'name': 'Азизбек',\n",
       "   'patronymic': 'Эльбек-угли',\n",
       "   'surname': 'Юсуфов'},\n",
       "  {'id': 31038,\n",
       "   'name': 'Владимир',\n",
       "   'patronymic': 'Владимирович',\n",
       "   'surname': 'Сушков'}],\n",
       " 'synchData': None,\n",
       " 'questionQty': {'1': 15, '2': 15}}"
      ]
     },
     "execution_count": 147,
     "metadata": {},
     "output_type": "execute_result"
    }
   ],
   "source": [
    "# первый турнир в рейтинге\n",
    "train_tournaments[5948]"
   ]
  },
  {
   "cell_type": "code",
   "execution_count": 148,
   "id": "furnished-stamp",
   "metadata": {},
   "outputs": [
    {
     "data": {
      "text/plain": [
       "{'id': 5717,\n",
       " 'name': 'Чемпионат Таджикистана',\n",
       " 'dateStart': '2019-06-23T14:00:00+03:00',\n",
       " 'dateEnd': '2019-06-23T18:00:00+03:00',\n",
       " 'type': {'id': 2, 'name': 'Обычный'},\n",
       " 'season': '/seasons/52',\n",
       " 'orgcommittee': [{'id': 37142,\n",
       "   'name': 'Азизбек',\n",
       "   'patronymic': 'Эльбек-угли',\n",
       "   'surname': 'Юсуфов'},\n",
       "  {'id': 98217,\n",
       "   'name': 'Манучехр',\n",
       "   'patronymic': 'Абдумаджидович',\n",
       "   'surname': 'Салохудинов'}],\n",
       " 'synchData': None,\n",
       " 'questionQty': {'1': 15, '2': 15, '3': 15}}"
      ]
     },
     "execution_count": 148,
     "metadata": {},
     "output_type": "execute_result"
    }
   ],
   "source": [
    "# последний турнир в рейтинге\n",
    "train_tournaments[5717]"
   ]
  },
  {
   "cell_type": "markdown",
   "id": "considered-shuttle",
   "metadata": {},
   "source": [
    "Получается, что есть логика ранжирования."
   ]
  }
 ],
 "metadata": {
  "kernelspec": {
   "display_name": "Python 3",
   "language": "python",
   "name": "python3"
  },
  "language_info": {
   "codemirror_mode": {
    "name": "ipython",
    "version": 3
   },
   "file_extension": ".py",
   "mimetype": "text/x-python",
   "name": "python",
   "nbconvert_exporter": "python",
   "pygments_lexer": "ipython3",
   "version": "3.8.5"
  }
 },
 "nbformat": 4,
 "nbformat_minor": 5
}
